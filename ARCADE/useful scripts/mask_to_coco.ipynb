{
 "cells": [
  {
   "cell_type": "code",
   "execution_count": 15,
   "metadata": {},
   "outputs": [],
   "source": [
    "from skimage import measure\n",
    "from shapely.geometry import Polygon\n",
    "import json\n",
    "import numpy as np\n",
    "\n",
    "gt_mask = np.zeros([200, 26, 512, 512])"
   ]
  },
  {
   "cell_type": "code",
   "execution_count": 16,
   "metadata": {},
   "outputs": [],
   "source": [
    "with open(\"empty_annotations.json\") as file:\n",
    "    gt = json.load(file)"
   ]
  },
  {
   "cell_type": "code",
   "execution_count": 17,
   "metadata": {},
   "outputs": [],
   "source": [
    "empty_submit = dict()\n",
    "empty_submit[\"images\"] = gt[\"images\"]\n",
    "empty_submit[\"categories\"] = gt[\"categories\"]\n",
    "empty_submit[\"annotations\"] = []"
   ]
  },
  {
   "attachments": {},
   "cell_type": "markdown",
   "metadata": {},
   "source": [
    "### Credits to https://github.com/chrise96/image-to-coco-json-converter/tree/master"
   ]
  },
  {
   "cell_type": "code",
   "execution_count": 13,
   "metadata": {},
   "outputs": [],
   "source": [
    "count_anns = 1\n",
    "for img_id, img in enumerate(gt_mask, 0):\n",
    "    for cls_id, cls in enumerate(img, 0):\n",
    "        contours = measure.find_contours(cls)\n",
    "        for contour in contours:            \n",
    "            for i in range(len(contour)):\n",
    "                row, col = contour[i]\n",
    "                contour[i] = (col - 1, row - 1)\n",
    "\n",
    "            # Simplify polygon\n",
    "            poly = Polygon(contour)\n",
    "            poly = poly.simplify(1.0, preserve_topology=False)\n",
    "            \n",
    "            if(poly.is_empty):\n",
    "                continue\n",
    "            segmentation = np.array(poly.exterior.coords).ravel().tolist()\n",
    "            new_ann = dict()\n",
    "            new_ann[\"id\"] = count_anns\n",
    "            new_ann[\"image_id\"] = img_id\n",
    "            new_ann[\"category_id\"] = cls_id\n",
    "            new_ann[\"segmentation\"] = [segmentation]\n",
    "            new_ann[\"area\"] = poly.area\n",
    "            x, y = contour.min(axis=0)\n",
    "            w, h = contour.max(axis=0) - contour.min(axis=0)\n",
    "            new_ann[\"bbox\"]  = [int(x), int(y), int(w), int(h)]\n",
    "            new_ann[\"iscrowd\"] = 0\n",
    "            new_ann[\"attributes\"] = {\n",
    "                \"occluded\": False\n",
    "            }\n",
    "            count_anns += 1\n",
    "            empty_submit[\"annotations\"].append(new_ann.copy())"
   ]
  },
  {
   "cell_type": "code",
   "execution_count": 14,
   "metadata": {},
   "outputs": [],
   "source": [
    "with open(\"submit.json\", \"w\") as file:\n",
    "    json.dump(empty_submit, file)"
   ]
  },
  {
   "cell_type": "code",
   "execution_count": null,
   "metadata": {},
   "outputs": [],
   "source": []
  }
 ],
 "metadata": {
  "kernelspec": {
   "display_name": "Python 3",
   "language": "python",
   "name": "python3"
  },
  "language_info": {
   "codemirror_mode": {
    "name": "ipython",
    "version": 3
   },
   "file_extension": ".py",
   "mimetype": "text/x-python",
   "name": "python",
   "nbconvert_exporter": "python",
   "pygments_lexer": "ipython3",
   "version": "3.10.10"
  },
  "orig_nbformat": 4
 },
 "nbformat": 4,
 "nbformat_minor": 2
}
